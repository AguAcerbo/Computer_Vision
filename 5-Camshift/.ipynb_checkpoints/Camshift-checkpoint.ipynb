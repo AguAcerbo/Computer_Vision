{
 "cells": [
  {
   "cell_type": "markdown",
   "id": "f1a03475",
   "metadata": {},
   "source": [
    "## Seguimiento utilizando Camshift"
   ]
  },
  {
   "cell_type": "code",
   "execution_count": 1,
   "id": "d5240120",
   "metadata": {},
   "outputs": [
    {
     "name": "stdout",
     "output_type": "stream",
     "text": [
      "Using matplotlib backend: <object object at 0x000002063B21CB30>\n"
     ]
    }
   ],
   "source": [
    "#Si queremos que las imágenes sean mostradas en una ventana emergente quitar el inline\n",
    "# %matplotlib inline\n",
    "%matplotlib\n",
    "\n",
    "# Importamos las librerías necesarias\n",
    "import numpy as np\n",
    "import cv2 as cv\n",
    "import matplotlib.pyplot as plt"
   ]
  },
  {
   "cell_type": "code",
   "execution_count": 2,
   "id": "5c46f2a1",
   "metadata": {},
   "outputs": [],
   "source": [
    "def mousePoints(event,x,y,flags,params):\n",
    "\n",
    "    # Left button mouse click event opencv\n",
    "    if (event == cv.EVENT_LBUTTONDOWN) and (len(roi_points)<2):\n",
    "        roi_points.append((x,y))\n",
    "        "
   ]
  },
  {
   "cell_type": "code",
   "execution_count": 3,
   "id": "589e8d00",
   "metadata": {},
   "outputs": [],
   "source": [
    "def ROI_init(roi_p):\n",
    "\n",
    "    w = np.abs(roi_p[0][0]-roi_p[1][0])\n",
    "    h = np.abs(roi_p[0][1]-roi_p[1][1])\n",
    "    x = np.min([roi_p[0][0],roi_p[1][0]])\n",
    "    y = np.min([roi_p[0][1],roi_p[1][1]])\n",
    "    \n",
    "    # Definimos la ubicación inical de la ventana de seguimiento\n",
    "    #-----------------------------------------------------------\n",
    "    # r,h,c,w - Región de la imagen (valores harcodeados)\n",
    "    track_window = (x, y, w, h)\n",
    "\n",
    "    # Una vez definida la ROI recortamos esa parte de la imagen que utilizaremos para seguimiento\n",
    "    #--------------------------------------------------------------------------------------------\n",
    "    roi = frame[y:y+h, x:x+w]\n",
    "    # Pasamos la ROI a HSV (los valores de H son más estables a cambios de intensidad)\n",
    "    hsv_roi =  cv.cvtColor(roi, cv.COLOR_BGR2HSV)\n",
    "    # Definimos una máscara para el histograma (Hue: 0..180, Saturation:60..255, Value:32..255)\n",
    "    mask = cv.inRange(hsv_roi, np.array((0., 60.,32.)), np.array((180.,255.,255.)))\n",
    "    # Y calculamos el histograma sobre esa máscara (toma solo el Hue: tonalidad)\n",
    "    roi_hist = cv.calcHist([hsv_roi],[0],mask,[180],[0,180])\n",
    "    # Normalizamos el histograma (entre 0 y 255 según indica el flag cv.NORM_MINMAX)\n",
    "    cv.normalize(roi_hist,roi_hist,0,255,cv.NORM_MINMAX)\n",
    "\n",
    "    cv.imwrite(\"ROI_2.jpg\",mask)\n",
    "\n",
    "    # Mostramos lo que se fue armando en relación a la ROI\n",
    "    #-----------------------------------------------------\n",
    "    plt.figure()\n",
    "    plt.imshow(mask)\n",
    "\n",
    "    # Muestro la imagen como para ver dónde definimos la ROI\n",
    "    #-------------------------------------------------------\n",
    "    cv.rectangle(frame,(x,y),(x+w,y+h),(0,255,0),2,cv.LINE_AA)\n",
    "    plt.figure()\n",
    "    plt.imshow(cv.cvtColor(frame,cv.COLOR_BGR2RGB))\n",
    "    cv.imwrite(\"frame_ROI_2.jpg\",frame)\n",
    "    \n",
    "    return track_window, roi_hist"
   ]
  },
  {
   "cell_type": "code",
   "execution_count": 4,
   "id": "d5a4bbc1",
   "metadata": {},
   "outputs": [
    {
     "name": "stdout",
     "output_type": "stream",
     "text": [
      "Error opening camera\n"
     ]
    }
   ],
   "source": [
    "cap = cv.VideoCapture(0)\n",
    "fourcc = cv.VideoWriter_fourcc(*'MP4V')\n",
    "video = cv.VideoWriter('Camshift_2.mp4', fourcc, 20.0, (640,480))\n",
    "\n",
    "\n",
    "if(cap.isOpened()==False):\n",
    "    print(\"Error opening camera\")\n",
    "    \n",
    "event = 0\n",
    "flag_set_roi = True\n",
    "roi_points = []\n",
    "\n",
    "# Condición de terminación: 10 iteraciones o moverse al menos 1pt\n",
    "#----------------------------------------------------------------\n",
    "term_crit = ( cv.TERM_CRITERIA_EPS | cv.TERM_CRITERIA_COUNT, 1, 10 )\n",
    "\n",
    "while(cap.isOpened()):\n",
    "    ret, frame = cap.read()\n",
    "    \n",
    "    if ret == True:\n",
    "        cv.setMouseCallback(\"Frame\", mousePoints)\n",
    "        \n",
    "        if (len(roi_points)==2) and (flag_set_roi==True):\n",
    "            print(roi_points)\n",
    "            track_window, roi_hist = ROI_init(roi_points)\n",
    "            flag_set_roi = False\n",
    "        \n",
    "        if flag_set_roi==False:\n",
    "            hsv = cv.cvtColor(frame, cv.COLOR_BGR2HSV)\n",
    "            dst = cv.calcBackProject([hsv],[0],roi_hist,[0,180],1)\n",
    "\n",
    "            # Aplicamos camshift al nuevo frame\n",
    "            #----------------------------------\n",
    "            ret, track_window = cv.CamShift(dst, track_window, term_crit)\n",
    "\n",
    "            # Dibujamos la ventana sobre la imagen\n",
    "            #=====================================\n",
    "\n",
    "            # Con escalamiento y rotación de la ventana de seguimiento\n",
    "            #---------------------------------------------------------\n",
    "            pts = cv.boxPoints(ret)                      # Encuentra los 4 vértices del rectángulo rotado\n",
    "            pts = np.int0(pts)                           # int0 (entero usado para indexado)\n",
    "            img2 = cv.polylines(frame,[pts],True, 255,2) # Dibujo del rectángulo\n",
    "\n",
    "            cv.imshow('Frame',img2)\n",
    "        else:\n",
    "            cv.imshow('Frame',frame)        \n",
    "        \n",
    "        video.write(frame)\n",
    "        k = cv.waitKey(60) & 0xff\n",
    "        if k == 27:\n",
    "            break\n",
    "    else:\n",
    "        break\n",
    "\n",
    "cap.release()\n",
    "video.release()\n",
    "cv.destroyAllWindows()\n",
    "roi_points = []"
   ]
  },
  {
   "cell_type": "code",
   "execution_count": null,
   "id": "342ef1cb",
   "metadata": {},
   "outputs": [],
   "source": []
  }
 ],
 "metadata": {
  "kernelspec": {
   "display_name": "Python 3 (ipykernel)",
   "language": "python",
   "name": "python3"
  },
  "language_info": {
   "codemirror_mode": {
    "name": "ipython",
    "version": 3
   },
   "file_extension": ".py",
   "mimetype": "text/x-python",
   "name": "python",
   "nbconvert_exporter": "python",
   "pygments_lexer": "ipython3",
   "version": "3.8.13"
  }
 },
 "nbformat": 4,
 "nbformat_minor": 5
}
