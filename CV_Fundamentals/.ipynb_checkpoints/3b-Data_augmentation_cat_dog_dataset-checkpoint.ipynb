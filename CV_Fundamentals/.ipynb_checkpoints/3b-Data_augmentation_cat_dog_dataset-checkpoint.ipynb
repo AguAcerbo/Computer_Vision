{
 "cells": [
  {
   "cell_type": "markdown",
   "metadata": {
    "id": "gnz3-c4GTXm9"
   },
   "source": [
    "# Vamos a utilizar un dataset de perros y gatos para explorar técnicas de Data Augmentation"
   ]
  },
  {
   "cell_type": "code",
   "execution_count": 1,
   "metadata": {
    "id": "AvXs-cneTXm-"
   },
   "outputs": [],
   "source": [
    "import numpy as np\n",
    "import pandas as pd\n",
    "%matplotlib inline\n",
    "import matplotlib as mpl\n",
    "import matplotlib.pyplot as plt\n",
    "import os"
   ]
  },
  {
   "cell_type": "code",
   "execution_count": 2,
   "metadata": {
    "id": "PHVTt9_UTXnC"
   },
   "outputs": [],
   "source": [
    "import tensorflow as tf\n",
    "from tensorflow import keras"
   ]
  },
  {
   "cell_type": "markdown",
   "metadata": {
    "id": "Zk78JBqATXnG"
   },
   "source": [
    "### DATASET:"
   ]
  },
  {
   "cell_type": "markdown",
   "metadata": {
    "id": "PQ0QRvPATXnH"
   },
   "source": [
    "El Dataset contiene 4000 imágenes de gatos y perros (2000 gatos y 2000 perros). Vamos a usar 2000 imágenes para entrenar, 1000 para validación, 1000 para test."
   ]
  },
  {
   "cell_type": "code",
   "execution_count": 3,
   "metadata": {
    "id": "tomzRUadTXnJ"
   },
   "outputs": [],
   "source": [
    "train_dir = r'C:\\Users\\Agustin\\Documents\\VpC2_Datasets\\Clase2\\perros_y_gatos\\train'\n",
    "validation_dir = r'C:\\Users\\Agustin\\Documents\\VpC2_Datasets\\Clase2\\perros_y_gatos\\validation'\n",
    "test_dir = r'C:\\Users\\Agustin\\Documents\\VpC2_Datasets\\Clase2\\perros_y_gatos\\test'"
   ]
  },
  {
   "cell_type": "markdown",
   "metadata": {
    "id": "KDrroygKTXnM"
   },
   "source": [
    "### Preprocesamiento de los datos"
   ]
  },
  {
   "cell_type": "markdown",
   "metadata": {
    "id": "assnLl85TXnN"
   },
   "source": [
    "* Leer las imágenes\n",
    "* Decodificar los JPEG en imágenes de píxeles RGB\n",
    "* Convertir estas imágenes en tensores de valores en punto flotante\n",
    "* Reescalar los valores de los píxeles al intervalo [0,1]\n"
   ]
  },
  {
   "cell_type": "code",
   "execution_count": 4,
   "metadata": {
    "id": "HuOLXZOJTXnN"
   },
   "outputs": [],
   "source": [
    "from tensorflow.keras.preprocessing.image import ImageDataGenerator"
   ]
  },
  {
   "cell_type": "markdown",
   "metadata": {
    "id": "_0bUApO-TXnR"
   },
   "source": [
    "Link : https://keras.io/preprocessing/image/"
   ]
  },
  {
   "cell_type": "code",
   "execution_count": 5,
   "metadata": {
    "colab": {
     "base_uri": "https://localhost:8080/"
    },
    "id": "-yyUlq53TXnS",
    "outputId": "1335dd50-dc99-49cd-904c-128aa542fb20"
   },
   "outputs": [
    {
     "name": "stdout",
     "output_type": "stream",
     "text": [
      "Found 2000 images belonging to 2 classes.\n",
      "Found 1000 images belonging to 2 classes.\n",
      "Found 1000 images belonging to 2 classes.\n"
     ]
    }
   ],
   "source": [
    "# Así generamos batches desde los directorios de imágenes\n",
    "train_datagen = ImageDataGenerator(rescale=1./255)\n",
    "test_datagen = ImageDataGenerator(rescale=1./255)\n",
    "val_datagen = ImageDataGenerator(rescale=1./255)\n",
    "\n",
    "train_generator = train_datagen.flow_from_directory(\n",
    "        train_dir,\n",
    "        target_size=(150, 150),\n",
    "        batch_size=20,\n",
    "        class_mode='binary')\n",
    "\n",
    "validation_generator = val_datagen.flow_from_directory(\n",
    "        validation_dir,\n",
    "        target_size=(150, 150),\n",
    "        batch_size=20,\n",
    "        class_mode='binary')\n",
    "\n",
    "test_generator = test_datagen.flow_from_directory(\n",
    "        test_dir,\n",
    "        target_size=(150, 150),\n",
    "        batch_size=20,\n",
    "        class_mode='binary')"
   ]
  },
  {
   "cell_type": "code",
   "execution_count": 6,
   "metadata": {
    "id": "27lf0gY6TXnb"
   },
   "outputs": [],
   "source": [
    "from tensorflow.keras import layers\n",
    "from tensorflow.keras import models"
   ]
  },
  {
   "cell_type": "code",
   "execution_count": 7,
   "metadata": {
    "id": "4dfXCWT9TXne"
   },
   "outputs": [],
   "source": [
    "model = models.Sequential()\n",
    "\n",
    "model.add(layers.Conv2D(32, (3,3), activation='relu', input_shape=(150,150,3)))\n",
    "model.add(layers.MaxPooling2D((2,2)))\n",
    "model.add(layers.Conv2D(64, (3,3), activation='relu'))\n",
    "model.add(layers.MaxPooling2D((2,2)))\n",
    "model.add(layers.Conv2D(128, (3,3), activation='relu'))\n",
    "model.add(layers.MaxPooling2D((2,2)))\n",
    "model.add(layers.Conv2D(128, (3,3), activation='relu'))\n",
    "model.add(layers.MaxPooling2D((2,2)))\n",
    "model.add(layers.Flatten())\n",
    "model.add(layers.Dense(512, activation='relu'))\n",
    "model.add(layers.Dense(1, activation='sigmoid'))\n",
    "\n"
   ]
  },
  {
   "cell_type": "code",
   "execution_count": 8,
   "metadata": {
    "colab": {
     "base_uri": "https://localhost:8080/"
    },
    "id": "0cp9q94YTXng",
    "outputId": "2215a187-f2ba-49ff-e754-134590d625c4"
   },
   "outputs": [
    {
     "name": "stdout",
     "output_type": "stream",
     "text": [
      "Model: \"sequential\"\n",
      "_________________________________________________________________\n",
      "Layer (type)                 Output Shape              Param #   \n",
      "=================================================================\n",
      "conv2d (Conv2D)              (None, 148, 148, 32)      896       \n",
      "_________________________________________________________________\n",
      "max_pooling2d (MaxPooling2D) (None, 74, 74, 32)        0         \n",
      "_________________________________________________________________\n",
      "conv2d_1 (Conv2D)            (None, 72, 72, 64)        18496     \n",
      "_________________________________________________________________\n",
      "max_pooling2d_1 (MaxPooling2 (None, 36, 36, 64)        0         \n",
      "_________________________________________________________________\n",
      "conv2d_2 (Conv2D)            (None, 34, 34, 128)       73856     \n",
      "_________________________________________________________________\n",
      "max_pooling2d_2 (MaxPooling2 (None, 17, 17, 128)       0         \n",
      "_________________________________________________________________\n",
      "conv2d_3 (Conv2D)            (None, 15, 15, 128)       147584    \n",
      "_________________________________________________________________\n",
      "max_pooling2d_3 (MaxPooling2 (None, 7, 7, 128)         0         \n",
      "_________________________________________________________________\n",
      "flatten (Flatten)            (None, 6272)              0         \n",
      "_________________________________________________________________\n",
      "dense (Dense)                (None, 512)               3211776   \n",
      "_________________________________________________________________\n",
      "dense_1 (Dense)              (None, 1)                 513       \n",
      "=================================================================\n",
      "Total params: 3,453,121\n",
      "Trainable params: 3,453,121\n",
      "Non-trainable params: 0\n",
      "_________________________________________________________________\n"
     ]
    }
   ],
   "source": [
    "model.summary()"
   ]
  },
  {
   "cell_type": "code",
   "execution_count": 9,
   "metadata": {
    "colab": {
     "base_uri": "https://localhost:8080/"
    },
    "id": "__ppSmEsTXnj",
    "outputId": "4448f520-a4f1-45e2-8eab-f061430476ff"
   },
   "outputs": [],
   "source": [
    "from tensorflow.keras import optimizers\n",
    "\n",
    "model.compile(loss='binary_crossentropy',\n",
    "              optimizer=optimizers.RMSprop(learning_rate=1e-4),\n",
    "              metrics=['acc'])"
   ]
  },
  {
   "cell_type": "code",
   "execution_count": 10,
   "metadata": {
    "colab": {
     "base_uri": "https://localhost:8080/"
    },
    "id": "VCXq57TfTXnn",
    "outputId": "28228d5e-a407-4c86-dd35-a7287b48256a"
   },
   "outputs": [
    {
     "name": "stdout",
     "output_type": "stream",
     "text": [
      "WARNING:tensorflow:From <ipython-input-10-e7af3f964552>:2: Model.fit_generator (from tensorflow.python.keras.engine.training) is deprecated and will be removed in a future version.\n",
      "Instructions for updating:\n",
      "Please use Model.fit, which supports generators.\n",
      "Epoch 1/5\n",
      "100/100 [==============================] - 33s 334ms/step - loss: 0.6841 - acc: 0.5250 - val_loss: 0.6622 - val_acc: 0.6030\n",
      "Epoch 2/5\n",
      "100/100 [==============================] - 33s 331ms/step - loss: 0.6427 - acc: 0.6360 - val_loss: 0.6153 - val_acc: 0.6520\n",
      "Epoch 3/5\n",
      "100/100 [==============================] - 33s 332ms/step - loss: 0.5993 - acc: 0.6800 - val_loss: 0.6377 - val_acc: 0.6480\n",
      "Epoch 4/5\n",
      "100/100 [==============================] - 33s 326ms/step - loss: 0.5621 - acc: 0.7185 - val_loss: 0.5948 - val_acc: 0.6780\n",
      "Epoch 5/5\n",
      "100/100 [==============================] - 34s 338ms/step - loss: 0.5396 - acc: 0.7215 - val_loss: 0.6230 - val_acc: 0.6440\n"
     ]
    }
   ],
   "source": [
    "# utilizar model.fit_generator para entrenar\n",
    "history = model.fit_generator(\n",
    "      train_generator,\n",
    "      steps_per_epoch=100,\n",
    "      epochs=5,\n",
    "      validation_data=validation_generator,\n",
    "      validation_steps=50)"
   ]
  },
  {
   "cell_type": "code",
   "execution_count": 11,
   "metadata": {
    "colab": {
     "base_uri": "https://localhost:8080/",
     "height": 324
    },
    "id": "Cl1_o5PlTXnq",
    "outputId": "8eedb1cf-4df3-4ace-db06-7d3b2af917ab"
   },
   "outputs": [
    {
     "data": {
      "image/png": "[encoded data removed]",
      "text/plain": [
       "<Figure size 576x360 with 1 Axes>"
      ]
     },
     "metadata": {
      "needs_background": "light"
     },
     "output_type": "display_data"
    }
   ],
   "source": [
    "pd.DataFrame(history.history).plot(figsize=(8, 5))\n",
    "plt.grid(True)\n",
    "plt.gca().set_ylim(0, 1)\n",
    "plt.show()"
   ]
  },
  {
   "cell_type": "code",
   "execution_count": 12,
   "metadata": {
    "colab": {
     "base_uri": "https://localhost:8080/"
    },
    "id": "bH0LnIwu5ZQu",
    "outputId": "fdd2f893-0e70-4bac-f5e9-761a7e8e2eab"
   },
   "outputs": [
    {
     "name": "stdout",
     "output_type": "stream",
     "text": [
      "50/50 [==============================] - 4s 87ms/step - loss: 0.6394 - acc: 0.6270\n"
     ]
    }
   ],
   "source": [
    "ev = model.evaluate(test_generator)"
   ]
  },
  {
   "cell_type": "code",
   "execution_count": 13,
   "metadata": {
    "id": "wBcVvX-HTXns"
   },
   "outputs": [],
   "source": [
    "from tensorflow.keras import backend as K \n",
    "\n",
    "#K.clear_session()\n",
    "#del model"
   ]
  },
  {
   "cell_type": "markdown",
   "metadata": {
    "id": "0lNZqKvXTXnv"
   },
   "source": [
    "### DATA AUGMENTATION"
   ]
  },
  {
   "cell_type": "markdown",
   "metadata": {
    "id": "O4YwS2n2TXnw"
   },
   "source": [
    "Distorsión, Rotación, Crop, Flip horizontal: \n",
    "![image.png](attachment:image.png)"
   ]
  },
  {
   "cell_type": "markdown",
   "metadata": {
    "id": "idlLIwPuTXnw"
   },
   "source": [
    "Vamos a distorsionar (estirando y escalando), rotar las imágenes, invertirlas horizontalmente, hacer zoom en una región, esto va a ser aleatorio dentro de un cierto rango, utilizar ImageDataGenerator con parámetros para que esto ocurra.\n",
    "\n",
    "https://keras.io/api/preprocessing/image/\n",
    "\n",
    "https://github.com/keras-team/keras-preprocessing/blob/master/keras_preprocessing/image/image_data_generator.py\n",
    "\n",
    "https://github.com/keras-team/keras-preprocessing/blob/master/keras_preprocessing/image/affine_transformations.py\n",
    "\n",
    "usar:\n",
    "\n",
    "- rotation_range -> rango aleatorio de angulo de rotacions\n",
    "- width_shift_range -> rango aleatorio de desplazamiento en x expresado como proporcion de la imagen [0,1]\n",
    "- height_shift_range -> rango aleatorio de desplazamiento en y expresado como proporcion de la imagen [0,1]\n",
    "- shear_range -> rango aleatorio de 'shear' o cillamiento https://en.wikipedia.org/wiki/Shear_mapping [0,1]\n",
    "- zoom_range -> rango aleatorio de zoom de la imagen [0,1]\n",
    "- horizontal_flip -> boolean (si se flipea aleatoriamente la imagen en la dirección horizontal)"
   ]
  },
  {
   "cell_type": "code",
   "execution_count": 14,
   "metadata": {
    "colab": {
     "base_uri": "https://localhost:8080/"
    },
    "id": "_4AfTtUYTXnx",
    "outputId": "fd2557be-429c-43ea-cdee-fd466ebad469"
   },
   "outputs": [
    {
     "name": "stdout",
     "output_type": "stream",
     "text": [
      "Found 2000 images belonging to 2 classes.\n",
      "Found 1000 images belonging to 2 classes.\n",
      "Found 1000 images belonging to 2 classes.\n"
     ]
    }
   ],
   "source": [
    "# Así generamos batches desde los directorios de imágenes\n",
    "train_datagen_aug = ImageDataGenerator(rescale=1./255,rotation_range=15, shear_range=0.5, zoom_range=0.2)\n",
    "test_datagen_aug = ImageDataGenerator(rescale=1./255, rotation_range=15, shear_range=0.5, zoom_range=0.2)\n",
    "val_datagen_aug = ImageDataGenerator(rescale=1./255, rotation_range=15, shear_range=0.5, zoom_range=0.2)\n",
    "\n",
    "train_generator_aug = train_datagen_aug.flow_from_directory(\n",
    "        train_dir,\n",
    "        target_size=(150, 150),\n",
    "        batch_size=20,\n",
    "        class_mode='binary')\n",
    "\n",
    "validation_generator_aug = val_datagen_aug.flow_from_directory(\n",
    "        validation_dir,\n",
    "        target_size=(150, 150),\n",
    "        batch_size=20,\n",
    "        class_mode='binary')\n",
    "\n",
    "test_generator_aug = test_datagen_aug.flow_from_directory(\n",
    "        test_dir,\n",
    "        target_size=(150, 150),\n",
    "        batch_size=20,\n",
    "        class_mode='binary')"
   ]
  },
  {
   "cell_type": "markdown",
   "metadata": {
    "id": "tyBxlQH-TXnz"
   },
   "source": [
    "### Veamos algunas imágenes"
   ]
  },
  {
   "cell_type": "code",
   "execution_count": 15,
   "metadata": {
    "colab": {
     "base_uri": "https://localhost:8080/"
    },
    "id": "7EIKRxpHTXn2",
    "outputId": "8c01faa4-a43d-4c4a-8644-c50052a1dad9"
   },
   "outputs": [
    {
     "name": "stdout",
     "output_type": "stream",
     "text": [
      "Model: \"sequential_1\"\n",
      "_________________________________________________________________\n",
      "Layer (type)                 Output Shape              Param #   \n",
      "=================================================================\n",
      "conv2d_4 (Conv2D)            (None, 148, 148, 32)      896       \n",
      "_________________________________________________________________\n",
      "max_pooling2d_4 (MaxPooling2 (None, 74, 74, 32)        0         \n",
      "_________________________________________________________________\n",
      "conv2d_5 (Conv2D)            (None, 72, 72, 64)        18496     \n",
      "_________________________________________________________________\n",
      "max_pooling2d_5 (MaxPooling2 (None, 36, 36, 64)        0         \n",
      "_________________________________________________________________\n",
      "conv2d_6 (Conv2D)            (None, 34, 34, 128)       73856     \n",
      "_________________________________________________________________\n",
      "max_pooling2d_6 (MaxPooling2 (None, 17, 17, 128)       0         \n",
      "_________________________________________________________________\n",
      "conv2d_7 (Conv2D)            (None, 15, 15, 128)       147584    \n",
      "_________________________________________________________________\n",
      "max_pooling2d_7 (MaxPooling2 (None, 7, 7, 128)         0         \n",
      "_________________________________________________________________\n",
      "flatten_1 (Flatten)          (None, 6272)              0         \n",
      "_________________________________________________________________\n",
      "dense_2 (Dense)              (None, 512)               3211776   \n",
      "_________________________________________________________________\n",
      "dense_3 (Dense)              (None, 1)                 513       \n",
      "=================================================================\n",
      "Total params: 3,453,121\n",
      "Trainable params: 3,453,121\n",
      "Non-trainable params: 0\n",
      "_________________________________________________________________\n"
     ]
    }
   ],
   "source": [
    "model_aug = models.Sequential()\n",
    "\n",
    "model_aug.add(layers.Conv2D(32, (3,3), activation='relu', input_shape=(150,150,3)))\n",
    "model_aug.add(layers.MaxPooling2D((2,2)))\n",
    "model_aug.add(layers.Conv2D(64, (3,3), activation='relu'))\n",
    "model_aug.add(layers.MaxPooling2D((2,2)))\n",
    "model_aug.add(layers.Conv2D(128, (3,3), activation='relu'))\n",
    "model_aug.add(layers.MaxPooling2D((2,2)))\n",
    "model_aug.add(layers.Conv2D(128, (3,3), activation='relu'))\n",
    "model_aug.add(layers.MaxPooling2D((2,2)))\n",
    "model_aug.add(layers.Flatten())\n",
    "model_aug.add(layers.Dense(512, activation='relu'))\n",
    "model_aug.add(layers.Dense(1, activation='sigmoid'))\n",
    "\n",
    "model_aug.summary()\n",
    "\n",
    "model_aug.compile(loss='binary_crossentropy',\n",
    "              optimizer=optimizers.RMSprop(learning_rate=1e-4),\n",
    "              metrics=['acc'])"
   ]
  },
  {
   "cell_type": "code",
   "execution_count": 16,
   "metadata": {
    "colab": {
     "base_uri": "https://localhost:8080/"
    },
    "id": "zw0xmIUuTXn4",
    "outputId": "b8293c60-5a21-44c5-ba03-f39402d7fdb3"
   },
   "outputs": [
    {
     "name": "stdout",
     "output_type": "stream",
     "text": [
      "Epoch 1/5\n",
      "100/100 [==============================] - 41s 412ms/step - loss: 0.6871 - acc: 0.5495 - val_loss: 0.6745 - val_acc: 0.5540\n",
      "Epoch 2/5\n",
      "100/100 [==============================] - 39s 390ms/step - loss: 0.6645 - acc: 0.6115 - val_loss: 0.6622 - val_acc: 0.5780\n",
      "Epoch 3/5\n",
      "100/100 [==============================] - 39s 394ms/step - loss: 0.6287 - acc: 0.6455 - val_loss: 0.6533 - val_acc: 0.6100\n",
      "Epoch 4/5\n",
      "100/100 [==============================] - 40s 401ms/step - loss: 0.6008 - acc: 0.6795 - val_loss: 0.6140 - val_acc: 0.6600\n",
      "Epoch 5/5\n",
      "100/100 [==============================] - 40s 404ms/step - loss: 0.5753 - acc: 0.6990 - val_loss: 0.6082 - val_acc: 0.6840\n"
     ]
    }
   ],
   "source": [
    "history_aug = model_aug.fit_generator(\n",
    "      train_generator_aug,\n",
    "      steps_per_epoch=100,\n",
    "      epochs=5,\n",
    "      validation_data=validation_generator_aug,\n",
    "      validation_steps=50)"
   ]
  },
  {
   "cell_type": "code",
   "execution_count": 17,
   "metadata": {
    "colab": {
     "base_uri": "https://localhost:8080/",
     "height": 324
    },
    "id": "jn93iMM7TXn8",
    "outputId": "6e5a936e-d175-4062-e6b2-b9eab57cb1e2"
   },
   "outputs": [
    {
     "data": {
      "image/png": "[encoded data removed]",
      "text/plain": [
       "<Figure size 576x360 with 1 Axes>"
      ]
     },
     "metadata": {
      "needs_background": "light"
     },
     "output_type": "display_data"
    }
   ],
   "source": [
    "pd.DataFrame(history_aug.history).plot(figsize=(8, 5))\n",
    "plt.grid(True)\n",
    "plt.gca().set_ylim(0, 1)\n",
    "plt.show()"
   ]
  },
  {
   "cell_type": "code",
   "execution_count": 18,
   "metadata": {
    "colab": {
     "base_uri": "https://localhost:8080/"
    },
    "id": "QoSXX0icS3HY",
    "outputId": "387c2a1c-137f-4885-b4e9-198af73af262"
   },
   "outputs": [
    {
     "name": "stdout",
     "output_type": "stream",
     "text": [
      "50/50 [==============================] - 8s 154ms/step - loss: 0.6100 - acc: 0.6690\n"
     ]
    }
   ],
   "source": [
    "ev_aug = model_aug.evaluate(test_generator_aug)"
   ]
  },
  {
   "cell_type": "code",
   "execution_count": 19,
   "metadata": {
    "id": "7fD_0v5BTXn_"
   },
   "outputs": [],
   "source": [
    "keras.backend.clear_session\n",
    "del model\n",
    "del model_aug"
   ]
  },
  {
   "cell_type": "code",
   "execution_count": null,
   "metadata": {
    "id": "pjlFU9V6U4qg"
   },
   "outputs": [],
   "source": []
  }
 ],
 "metadata": {
  "colab": {
   "collapsed_sections": [],
   "name": "Data_augmentation_catdog.ipynb",
   "provenance": []
  },
  "kernelspec": {
   "display_name": "Python 3 (ipykernel)",
   "language": "python",
   "name": "python3"
  },
  "language_info": {
   "codemirror_mode": {
    "name": "ipython",
    "version": 3
   },
   "file_extension": ".py",
   "mimetype": "text/x-python",
   "name": "python",
   "nbconvert_exporter": "python",
   "pygments_lexer": "ipython3",
   "version": "3.8.13"
  }
 },
 "nbformat": 4,
 "nbformat_minor": 1
}
