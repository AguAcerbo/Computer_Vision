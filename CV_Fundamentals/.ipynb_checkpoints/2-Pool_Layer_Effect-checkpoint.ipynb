{
 "cells": [
  {
   "cell_type": "markdown",
   "metadata": {
    "id": "soCLllHwMgiT"
   },
   "source": [
    "## Experimento para ver el efecto de una capa POOL "
   ]
  },
  {
   "cell_type": "code",
   "execution_count": 1,
   "metadata": {
    "id": "vLMhXOBSMgiU"
   },
   "outputs": [],
   "source": [
    "import numpy as np\n",
    "import pandas as pd\n",
    "%matplotlib inline\n",
    "import matplotlib as mpl\n",
    "import matplotlib.pyplot as plt"
   ]
  },
  {
   "cell_type": "code",
   "execution_count": 2,
   "metadata": {
    "id": "s3kqywe9MgiY"
   },
   "outputs": [],
   "source": [
    "import tensorflow as tf\n",
    "from tensorflow import keras"
   ]
  },
  {
   "cell_type": "markdown",
   "metadata": {
    "id": "kWwNk5AlMgib"
   },
   "source": [
    "## Dataset: Fashion Mnist\n",
    "\n",
    "Link  https://keras.io/datasets/#fashion-mnist-database-of-fashion-articles\n",
    "\n",
    "Dataset que consiste de 60,000 imágenes de entrenamiento en blanco y negro catalogadas en 10 categorías y un test set de 10,000 imágenes. Los labels/rótulos son:\n",
    "\n",
    "| Label |\tDescription |\n",
    "--- | --- |\n",
    "| 0\t| T-shirt/top\n",
    "| 1\t| Trouser\n",
    "| 2\t| Pullover \n",
    "| 3\t| Dress\n",
    "| 4\t| Coat\n",
    "| 5\t| Sandal\n",
    "| 6\t| Shirt\n",
    "| 7\t| Sneaker\n",
    "| 8\t| Bag\n",
    "| 9\t| Ankle boot\n",
    "\n",
    "### Para importar\n",
    "from keras.datasets import fashion_mnist\n",
    "\n",
    "> (x_train, y_train), (x_test, y_test) = fashion_mnist.load_data()\n",
    "\n",
    "Retorna:\n",
    "2 tuplas:\n",
    "1. x_train, x_test: array de uint8 de imágenes blanco y negro de dimensiones (num_samples, 28, 28)\n",
    "2. y_train, y_test: array de uint8 d rótulos (enteros en el rango range 0-9) con dimensiones (num_samples,)."
   ]
  },
  {
   "cell_type": "code",
   "execution_count": 3,
   "metadata": {
    "colab": {
     "base_uri": "https://localhost:8080/"
    },
    "id": "KOy1QP9sMgic",
    "outputId": "61f4f276-771b-4328-cc6a-8efdacc6df38"
   },
   "outputs": [],
   "source": [
    "fashion_mnist = keras.datasets.fashion_mnist\n",
    "(X_train_full, y_train_full), (X_test, y_test) = fashion_mnist.load_data()"
   ]
  },
  {
   "cell_type": "code",
   "execution_count": 4,
   "metadata": {
    "id": "5X0Y3T_-Mgie"
   },
   "outputs": [],
   "source": [
    "class_names = [\"T-shirt/top\", \"Trouser\", \"Pullover\", \"Dress\", \"Coat\",\n",
    "               \"Sandal\", \"Shirt\", \"Sneaker\", \"Bag\", \"Ankle boot\"]"
   ]
  },
  {
   "cell_type": "markdown",
   "metadata": {
    "id": "eEom-9LkMgih"
   },
   "source": [
    "### Redimensionamos los datos"
   ]
  },
  {
   "cell_type": "code",
   "execution_count": 5,
   "metadata": {
    "id": "sUGEjL_IMgih"
   },
   "outputs": [],
   "source": [
    "X_train_full = X_train_full.reshape((60000, 28, 28, 1))\n",
    "X_test = X_test.reshape((10000, 28, 28, 1))"
   ]
  },
  {
   "cell_type": "markdown",
   "metadata": {
    "id": "br4e_zl0Mgik"
   },
   "source": [
    "### Normalización"
   ]
  },
  {
   "cell_type": "code",
   "execution_count": 6,
   "metadata": {
    "id": "_eaCFmNIMgik"
   },
   "outputs": [],
   "source": [
    "X_train_n = X_train_full / 255.\n",
    "X_test_n = X_test / 255."
   ]
  },
  {
   "cell_type": "markdown",
   "metadata": {
    "id": "0JCGlU07Mgin"
   },
   "source": [
    "### Dividimos los datos en datasets de entrenamiento/validación/test"
   ]
  },
  {
   "cell_type": "code",
   "execution_count": 7,
   "metadata": {
    "id": "MMsJIxuNMgio"
   },
   "outputs": [],
   "source": [
    "X_valid, X_train = X_train_n[:5000], X_train_n[5000:]\n",
    "y_valid, y_train = y_train_full[:5000], y_train_full[5000:]\n",
    "X_test = X_test_n"
   ]
  },
  {
   "cell_type": "markdown",
   "metadata": {
    "id": "XLvwPacnMgir"
   },
   "source": [
    "### Arquitectura con Pooling vs sin Pooling\n",
    "\n",
    "![image.png](attachment:image.png)"
   ]
  },
  {
   "cell_type": "markdown",
   "metadata": {
    "id": "-WkR17tAMgir"
   },
   "source": [
    "### Pooling vs No Pooling"
   ]
  },
  {
   "cell_type": "code",
   "execution_count": 8,
   "metadata": {
    "id": "O7VLUQp5Mgis"
   },
   "outputs": [],
   "source": [
    "model_a = keras.models.Sequential()\n",
    "model_a.add(keras.layers.Conv2D(filters = 32, kernel_size = (3, 3), strides=1, padding='valid', activation='relu', input_shape=(28, 28, 1)))\n",
    "model_a.add(keras.layers.MaxPooling2D((2, 2)))\n",
    "model_a.add(keras.layers.Flatten())\n",
    "model_a.add(keras.layers.Dense(300, activation=\"relu\"))\n",
    "model_a.add(keras.layers.Dense(100, activation=\"relu\"))\n",
    "model_a.add(keras.layers.Dense(10, activation=\"softmax\"))\n",
    "\n",
    "# el segundo modelo no tiene Max Pool, notar que strides = 2 en la capa convolucional para que los dos modelos tengan\n",
    "# la misma cantidad de parámetros\n",
    "model_b = keras.models.Sequential()\n",
    "model_b.add(keras.layers.Conv2D(filters = 32, kernel_size = (3, 3), strides=2, padding='valid', activation='relu', input_shape=(28, 28, 1)))\n",
    "model_b.add(keras.layers.Flatten())\n",
    "model_b.add(keras.layers.Dense(300, activation=\"relu\"))\n",
    "model_b.add(keras.layers.Dense(100, activation=\"relu\"))\n",
    "model_b.add(keras.layers.Dense(10, activation=\"softmax\"))\n"
   ]
  },
  {
   "cell_type": "markdown",
   "metadata": {},
   "source": [
    "**Para realizar una comparación justa se buscar que luego de la etapa convolucional salgan imagenes de las mismas dimensiones. Tambien es importante para mantener la misma cantidad de parametros a entrenar**"
   ]
  },
  {
   "cell_type": "code",
   "execution_count": 9,
   "metadata": {
    "colab": {
     "base_uri": "https://localhost:8080/"
    },
    "id": "-byXB946Mgiu",
    "outputId": "7ebf7052-1385-47bb-d491-d99250ab0fe9"
   },
   "outputs": [
    {
     "name": "stdout",
     "output_type": "stream",
     "text": [
      "Model: \"sequential\"\n",
      "_________________________________________________________________\n",
      "Layer (type)                 Output Shape              Param #   \n",
      "=================================================================\n",
      "conv2d (Conv2D)              (None, 26, 26, 32)        320       \n",
      "_________________________________________________________________\n",
      "max_pooling2d (MaxPooling2D) (None, 13, 13, 32)        0         \n",
      "_________________________________________________________________\n",
      "flatten (Flatten)            (None, 5408)              0         \n",
      "_________________________________________________________________\n",
      "dense (Dense)                (None, 300)               1622700   \n",
      "_________________________________________________________________\n",
      "dense_1 (Dense)              (None, 100)               30100     \n",
      "_________________________________________________________________\n",
      "dense_2 (Dense)              (None, 10)                1010      \n",
      "=================================================================\n",
      "Total params: 1,654,130\n",
      "Trainable params: 1,654,130\n",
      "Non-trainable params: 0\n",
      "_________________________________________________________________\n"
     ]
    }
   ],
   "source": [
    "model_a.summary()"
   ]
  },
  {
   "cell_type": "code",
   "execution_count": 10,
   "metadata": {
    "colab": {
     "base_uri": "https://localhost:8080/"
    },
    "id": "Wfp5ATVqMgiy",
    "outputId": "6dad059c-9aae-481c-d26d-919186c55f2d"
   },
   "outputs": [
    {
     "name": "stdout",
     "output_type": "stream",
     "text": [
      "Model: \"sequential_1\"\n",
      "_________________________________________________________________\n",
      "Layer (type)                 Output Shape              Param #   \n",
      "=================================================================\n",
      "conv2d_1 (Conv2D)            (None, 13, 13, 32)        320       \n",
      "_________________________________________________________________\n",
      "flatten_1 (Flatten)          (None, 5408)              0         \n",
      "_________________________________________________________________\n",
      "dense_3 (Dense)              (None, 300)               1622700   \n",
      "_________________________________________________________________\n",
      "dense_4 (Dense)              (None, 100)               30100     \n",
      "_________________________________________________________________\n",
      "dense_5 (Dense)              (None, 10)                1010      \n",
      "=================================================================\n",
      "Total params: 1,654,130\n",
      "Trainable params: 1,654,130\n",
      "Non-trainable params: 0\n",
      "_________________________________________________________________\n"
     ]
    }
   ],
   "source": [
    "model_b.summary()"
   ]
  },
  {
   "cell_type": "code",
   "execution_count": 11,
   "metadata": {
    "id": "xrYOfWXOMgi0"
   },
   "outputs": [],
   "source": [
    "model_a.compile(loss=\"sparse_categorical_crossentropy\",\n",
    "              optimizer=\"sgd\",\n",
    "              metrics=[\"accuracy\"])\n",
    "\n",
    "model_b.compile(loss=\"sparse_categorical_crossentropy\",\n",
    "              optimizer=\"sgd\",\n",
    "              metrics=[\"accuracy\"])"
   ]
  },
  {
   "cell_type": "code",
   "execution_count": 12,
   "metadata": {
    "colab": {
     "base_uri": "https://localhost:8080/"
    },
    "id": "cFTBddfKMgi2",
    "outputId": "a52a3850-595e-4cf2-ad9e-a264978c6210"
   },
   "outputs": [
    {
     "name": "stdout",
     "output_type": "stream",
     "text": [
      "Epoch 1/3\n",
      "860/860 [==============================] - 12s 14ms/step - loss: 0.8402 - accuracy: 0.7157 - val_loss: 0.6156 - val_accuracy: 0.7510\n",
      "Epoch 2/3\n",
      "860/860 [==============================] - 14s 16ms/step - loss: 0.5341 - accuracy: 0.8066 - val_loss: 0.6188 - val_accuracy: 0.7734\n",
      "Epoch 3/3\n",
      "860/860 [==============================] - 16s 18ms/step - loss: 0.4779 - accuracy: 0.8294 - val_loss: 0.4797 - val_accuracy: 0.8252\n"
     ]
    }
   ],
   "source": [
    "model_history_a = model_a.fit(X_train, y_train, epochs=3,batch_size= 64,\n",
    "                    validation_data=(X_valid, y_valid))"
   ]
  },
  {
   "cell_type": "code",
   "execution_count": 13,
   "metadata": {
    "colab": {
     "base_uri": "https://localhost:8080/",
     "height": 324
    },
    "id": "PeCTxg_-Mgi6",
    "outputId": "bb59b28b-446e-4b74-b663-9c46326f87ff"
   },
   "outputs": [
    {
     "data": {
      "image/png": "[encoded data removed]",
      "text/plain": [
       "<Figure size 576x360 with 1 Axes>"
      ]
     },
     "metadata": {
      "needs_background": "light"
     },
     "output_type": "display_data"
    }
   ],
   "source": [
    "import pandas as pd\n",
    "\n",
    "pd.DataFrame(model_history_a.history).plot(figsize=(8, 5))\n",
    "plt.grid(True)\n",
    "plt.gca().set_ylim(0, 1)\n",
    "plt.show()"
   ]
  },
  {
   "cell_type": "code",
   "execution_count": 14,
   "metadata": {
    "colab": {
     "base_uri": "https://localhost:8080/"
    },
    "id": "gRBm_RC5Mgi8",
    "outputId": "54cea33f-f661-4369-9b26-bfd8c901468e"
   },
   "outputs": [
    {
     "name": "stdout",
     "output_type": "stream",
     "text": [
      "313/313 [==============================] - 1s 4ms/step - loss: 0.5410 - accuracy: 0.7927\n"
     ]
    }
   ],
   "source": [
    "ev = model_a.evaluate(X_test_n, y_test)"
   ]
  },
  {
   "cell_type": "code",
   "execution_count": 15,
   "metadata": {
    "id": "JGRTkBTZMgi_"
   },
   "outputs": [],
   "source": [
    "X_new = X_test[:3]"
   ]
  },
  {
   "cell_type": "code",
   "execution_count": 16,
   "metadata": {
    "colab": {
     "base_uri": "https://localhost:8080/"
    },
    "id": "ZamreViFMgjB",
    "outputId": "c2d01904-6aef-404e-edd1-d6e25a6617d1"
   },
   "outputs": [
    {
     "name": "stdout",
     "output_type": "stream",
     "text": [
      "WARNING:tensorflow:From <ipython-input-16-b28604147422>:1: Sequential.predict_classes (from tensorflow.python.keras.engine.sequential) is deprecated and will be removed after 2021-01-01.\n",
      "Instructions for updating:\n",
      "Please use instead:* `np.argmax(model.predict(x), axis=-1)`,   if your model does multi-class classification   (e.g. if it uses a `softmax` last-layer activation).* `(model.predict(x) > 0.5).astype(\"int32\")`,   if your model does binary classification   (e.g. if it uses a `sigmoid` last-layer activation).\n"
     ]
    },
    {
     "data": {
      "text/plain": [
       "array([9, 2, 1], dtype=int64)"
      ]
     },
     "execution_count": 16,
     "metadata": {},
     "output_type": "execute_result"
    }
   ],
   "source": [
    "y_pred = model_a.predict_classes(X_new)\n",
    "y_pred"
   ]
  },
  {
   "cell_type": "code",
   "execution_count": 17,
   "metadata": {
    "colab": {
     "base_uri": "https://localhost:8080/"
    },
    "id": "NM8uKf5wMgjD",
    "outputId": "42e4a321-1173-434e-8ad0-451e4db6ddb6"
   },
   "outputs": [
    {
     "data": {
      "text/plain": [
       "array([9, 2, 1], dtype=uint8)"
      ]
     },
     "execution_count": 17,
     "metadata": {},
     "output_type": "execute_result"
    }
   ],
   "source": [
    "y_test[:3]"
   ]
  },
  {
   "cell_type": "code",
   "execution_count": 18,
   "metadata": {
    "colab": {
     "base_uri": "https://localhost:8080/",
     "height": 283
    },
    "id": "Qd97ymg6MgjF",
    "outputId": "5892008d-b8f5-418a-b75f-0755b49dd3f8"
   },
   "outputs": [
    {
     "name": "stdout",
     "output_type": "stream",
     "text": [
      "AxesImage(54,36;334.8x217.44)\n"
     ]
    },
    {
     "data": {
      "image/png": "[encoded data removed]",
      "text/plain": [
       "<Figure size 432x288 with 1 Axes>"
      ]
     },
     "metadata": {
      "needs_background": "light"
     },
     "output_type": "display_data"
    }
   ],
   "source": [
    "print(plt.imshow(X_test[2].reshape((28,28))))"
   ]
  },
  {
   "cell_type": "code",
   "execution_count": 19,
   "metadata": {
    "colab": {
     "base_uri": "https://localhost:8080/"
    },
    "id": "2SUfVbMoMgjI",
    "outputId": "abebdcef-92d6-42dc-8bba-b109fbfcbd0b"
   },
   "outputs": [
    {
     "name": "stdout",
     "output_type": "stream",
     "text": [
      "Epoch 1/3\n",
      "860/860 [==============================] - 11s 12ms/step - loss: 0.8996 - accuracy: 0.7116 - val_loss: 0.6165 - val_accuracy: 0.7560\n",
      "Epoch 2/3\n",
      "860/860 [==============================] - 8s 10ms/step - loss: 0.5342 - accuracy: 0.8074 - val_loss: 0.5520 - val_accuracy: 0.7858\n",
      "Epoch 3/3\n",
      "860/860 [==============================] - 8s 9ms/step - loss: 0.4797 - accuracy: 0.8270 - val_loss: 0.4726 - val_accuracy: 0.8274\n"
     ]
    }
   ],
   "source": [
    "model_history_b = model_b.fit(X_train, y_train, epochs=3,batch_size= 64,\n",
    "                    validation_data=(X_valid, y_valid))"
   ]
  },
  {
   "cell_type": "code",
   "execution_count": 21,
   "metadata": {
    "id": "uxNQfcpNMgjN"
   },
   "outputs": [
    {
     "data": {
      "image/png": "[encoded data removed]",
      "text/plain": [
       "<Figure size 576x360 with 1 Axes>"
      ]
     },
     "metadata": {
      "needs_background": "light"
     },
     "output_type": "display_data"
    }
   ],
   "source": [
    "pd.DataFrame(model_history_b.history).plot(figsize=(8, 5))\n",
    "plt.grid(True)\n",
    "plt.gca().set_ylim(0, 1)\n",
    "plt.show()"
   ]
  },
  {
   "cell_type": "code",
   "execution_count": 20,
   "metadata": {
    "colab": {
     "base_uri": "https://localhost:8080/"
    },
    "id": "ZHCpTWB_MgjL",
    "outputId": "cd07d7a6-858d-46a9-a0b8-e0d0afa6d2d1"
   },
   "outputs": [
    {
     "name": "stdout",
     "output_type": "stream",
     "text": [
      "313/313 [==============================] - 1s 2ms/step - loss: 0.5174 - accuracy: 0.8045\n"
     ]
    }
   ],
   "source": [
    "ev = model_b.evaluate(X_test_n, y_test)"
   ]
  },
  {
   "cell_type": "code",
   "execution_count": 22,
   "metadata": {},
   "outputs": [
    {
     "data": {
      "text/plain": [
       "array([7, 2, 1], dtype=int64)"
      ]
     },
     "execution_count": 22,
     "metadata": {},
     "output_type": "execute_result"
    }
   ],
   "source": [
    "y_pred_b = model_b.predict_classes(X_new)\n",
    "y_pred_b"
   ]
  },
  {
   "cell_type": "code",
   "execution_count": 23,
   "metadata": {},
   "outputs": [
    {
     "data": {
      "text/plain": [
       "array([9, 2, 1], dtype=uint8)"
      ]
     },
     "execution_count": 23,
     "metadata": {},
     "output_type": "execute_result"
    }
   ],
   "source": [
    "y_test[:3]"
   ]
  },
  {
   "cell_type": "markdown",
   "metadata": {},
   "source": [
    "**Tarea:** agregar uno o dos bloques más con y sin pool para ver si hay diferencia."
   ]
  },
  {
   "cell_type": "code",
   "execution_count": 75,
   "metadata": {},
   "outputs": [],
   "source": [
    "model_c = keras.models.Sequential()\n",
    "model_c.add(keras.layers.Conv2D(filters = 32, kernel_size = (3, 3), strides=1, padding='same', activation='relu', input_shape=(28, 28, 1)))\n",
    "model_c.add(keras.layers.MaxPooling2D((2, 2)))\n",
    "model_c.add(keras.layers.Conv2D(filters = 32, kernel_size = (3, 3), strides=1, padding='same', activation='relu', input_shape=(14, 14, 1)))\n",
    "model_c.add(keras.layers.MaxPooling2D((2, 2)))\n",
    "model_c.add(keras.layers.Conv2D(filters = 32, kernel_size = (3, 3), strides=1, padding='same', activation='relu', input_shape=(7, 7, 1)))\n",
    "model_c.add(keras.layers.MaxPooling2D((2, 2)))\n",
    "model_c.add(keras.layers.Flatten())\n",
    "model_c.add(keras.layers.Dense(300, activation=\"relu\"))\n",
    "model_c.add(keras.layers.Dense(100, activation=\"relu\"))\n",
    "model_c.add(keras.layers.Dense(10, activation=\"softmax\"))\n",
    "\n",
    "# el segundo modelo no tiene Max Pool, notar que strides = 2 en la capa convolucional para que los dos modelos tengan\n",
    "# la misma cantidad de parámetros\n",
    "model_d = keras.models.Sequential()\n",
    "model_d.add(keras.layers.Conv2D(filters = 32, kernel_size = (3, 3), strides=2, padding='valid', activation='relu', input_shape=(28, 28, 1)))\n",
    "model_d.add(keras.layers.Conv2D(filters = 32, kernel_size = (3, 3), strides=2, padding='valid', activation='relu', input_shape=(13, 13, 1)))\n",
    "model_d.add(keras.layers.Conv2D(filters = 32, kernel_size = (3, 3), strides=2, padding='same', activation='relu', input_shape=(6, 6, 1)))\n",
    "model_d.add(keras.layers.Flatten())\n",
    "model_d.add(keras.layers.Dense(300, activation=\"relu\"))\n",
    "model_d.add(keras.layers.Dense(100, activation=\"relu\"))\n",
    "model_d.add(keras.layers.Dense(10, activation=\"softmax\"))"
   ]
  },
  {
   "cell_type": "code",
   "execution_count": 76,
   "metadata": {},
   "outputs": [
    {
     "name": "stdout",
     "output_type": "stream",
     "text": [
      "Model: \"sequential_28\"\n",
      "_________________________________________________________________\n",
      "Layer (type)                 Output Shape              Param #   \n",
      "=================================================================\n",
      "conv2d_85 (Conv2D)           (None, 28, 28, 32)        320       \n",
      "_________________________________________________________________\n",
      "max_pooling2d_45 (MaxPooling (None, 14, 14, 32)        0         \n",
      "_________________________________________________________________\n",
      "conv2d_86 (Conv2D)           (None, 14, 14, 32)        9248      \n",
      "_________________________________________________________________\n",
      "max_pooling2d_46 (MaxPooling (None, 7, 7, 32)          0         \n",
      "_________________________________________________________________\n",
      "conv2d_87 (Conv2D)           (None, 7, 7, 32)          9248      \n",
      "_________________________________________________________________\n",
      "max_pooling2d_47 (MaxPooling (None, 3, 3, 32)          0         \n",
      "_________________________________________________________________\n",
      "flatten_25 (Flatten)         (None, 288)               0         \n",
      "_________________________________________________________________\n",
      "dense_75 (Dense)             (None, 300)               86700     \n",
      "_________________________________________________________________\n",
      "dense_76 (Dense)             (None, 100)               30100     \n",
      "_________________________________________________________________\n",
      "dense_77 (Dense)             (None, 10)                1010      \n",
      "=================================================================\n",
      "Total params: 136,626\n",
      "Trainable params: 136,626\n",
      "Non-trainable params: 0\n",
      "_________________________________________________________________\n"
     ]
    }
   ],
   "source": [
    "model_c.summary()"
   ]
  },
  {
   "cell_type": "code",
   "execution_count": 77,
   "metadata": {},
   "outputs": [
    {
     "name": "stdout",
     "output_type": "stream",
     "text": [
      "Model: \"sequential_29\"\n",
      "_________________________________________________________________\n",
      "Layer (type)                 Output Shape              Param #   \n",
      "=================================================================\n",
      "conv2d_88 (Conv2D)           (None, 13, 13, 32)        320       \n",
      "_________________________________________________________________\n",
      "conv2d_89 (Conv2D)           (None, 6, 6, 32)          9248      \n",
      "_________________________________________________________________\n",
      "conv2d_90 (Conv2D)           (None, 3, 3, 32)          9248      \n",
      "_________________________________________________________________\n",
      "flatten_26 (Flatten)         (None, 288)               0         \n",
      "_________________________________________________________________\n",
      "dense_78 (Dense)             (None, 300)               86700     \n",
      "_________________________________________________________________\n",
      "dense_79 (Dense)             (None, 100)               30100     \n",
      "_________________________________________________________________\n",
      "dense_80 (Dense)             (None, 10)                1010      \n",
      "=================================================================\n",
      "Total params: 136,626\n",
      "Trainable params: 136,626\n",
      "Non-trainable params: 0\n",
      "_________________________________________________________________\n"
     ]
    }
   ],
   "source": [
    "model_d.summary()"
   ]
  },
  {
   "cell_type": "code",
   "execution_count": 78,
   "metadata": {},
   "outputs": [],
   "source": [
    "model_c.compile(loss=\"sparse_categorical_crossentropy\",\n",
    "              optimizer=\"sgd\",\n",
    "              metrics=[\"accuracy\"])\n",
    "\n",
    "model_d.compile(loss=\"sparse_categorical_crossentropy\",\n",
    "              optimizer=\"sgd\",\n",
    "              metrics=[\"accuracy\"])"
   ]
  },
  {
   "cell_type": "code",
   "execution_count": 79,
   "metadata": {},
   "outputs": [
    {
     "name": "stdout",
     "output_type": "stream",
     "text": [
      "Epoch 1/3\n",
      "860/860 [==============================] - 12s 14ms/step - loss: 0.2373 - accuracy: 0.9129 - val_loss: 0.2820 - val_accuracy: 0.8960\n",
      "Epoch 2/3\n",
      "860/860 [==============================] - 12s 14ms/step - loss: 0.2317 - accuracy: 0.9154 - val_loss: 0.2682 - val_accuracy: 0.9030\n",
      "Epoch 3/3\n",
      "860/860 [==============================] - 12s 14ms/step - loss: 0.2271 - accuracy: 0.9171 - val_loss: 0.2993 - val_accuracy: 0.8936\n"
     ]
    }
   ],
   "source": [
    "model_history_c = model_a.fit(X_train, y_train, epochs=3,batch_size= 64,\n",
    "                    validation_data=(X_valid, y_valid))"
   ]
  },
  {
   "cell_type": "code",
   "execution_count": 80,
   "metadata": {},
   "outputs": [
    {
     "name": "stdout",
     "output_type": "stream",
     "text": [
      "Epoch 1/3\n",
      "860/860 [==============================] - 13s 15ms/step - loss: 0.2244 - accuracy: 0.9170 - val_loss: 0.2786 - val_accuracy: 0.8994\n",
      "Epoch 2/3\n",
      "860/860 [==============================] - 13s 15ms/step - loss: 0.2193 - accuracy: 0.9196 - val_loss: 0.2888 - val_accuracy: 0.8940\n",
      "Epoch 3/3\n",
      "860/860 [==============================] - 13s 15ms/step - loss: 0.2155 - accuracy: 0.9203 - val_loss: 0.2692 - val_accuracy: 0.9014\n"
     ]
    }
   ],
   "source": [
    "model_history_d = model_a.fit(X_train, y_train, epochs=3,batch_size= 64,\n",
    "                    validation_data=(X_valid, y_valid))"
   ]
  },
  {
   "cell_type": "code",
   "execution_count": 81,
   "metadata": {},
   "outputs": [
    {
     "data": {
      "image/png": "[encoded data removed]",
      "text/plain": [
       "<Figure size 576x360 with 1 Axes>"
      ]
     },
     "metadata": {
      "needs_background": "light"
     },
     "output_type": "display_data"
    }
   ],
   "source": [
    "pd.DataFrame(model_history_c.history).plot(figsize=(8, 5))\n",
    "plt.grid(True)\n",
    "plt.gca().set_ylim(0, 1)\n",
    "plt.show()"
   ]
  },
  {
   "cell_type": "code",
   "execution_count": 82,
   "metadata": {},
   "outputs": [
    {
     "data": {
      "image/png": "[encoded data removed]",
      "text/plain": [
       "<Figure size 576x360 with 1 Axes>"
      ]
     },
     "metadata": {
      "needs_background": "light"
     },
     "output_type": "display_data"
    }
   ],
   "source": [
    "pd.DataFrame(model_history_d.history).plot(figsize=(8, 5))\n",
    "plt.grid(True)\n",
    "plt.gca().set_ylim(0, 1)\n",
    "plt.show()"
   ]
  },
  {
   "cell_type": "code",
   "execution_count": null,
   "metadata": {},
   "outputs": [],
   "source": []
  }
 ],
 "metadata": {
  "colab": {
   "name": "Con_pool_vs_sin_pool.ipynb",
   "provenance": []
  },
  "kernelspec": {
   "display_name": "Python 3 (ipykernel)",
   "language": "python",
   "name": "python3"
  },
  "language_info": {
   "codemirror_mode": {
    "name": "ipython",
    "version": 3
   },
   "file_extension": ".py",
   "mimetype": "text/x-python",
   "name": "python",
   "nbconvert_exporter": "python",
   "pygments_lexer": "ipython3",
   "version": "3.8.13"
  }
 },
 "nbformat": 4,
 "nbformat_minor": 1
}
